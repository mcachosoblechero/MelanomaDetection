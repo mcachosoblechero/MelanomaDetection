{
 "cells": [
  {
   "cell_type": "markdown",
   "metadata": {},
   "source": [
    "# Model Analysis\n",
    "The objective of this notebook is to develop predictive models to classify melanoma lessions in either benign or malignant. \n",
    "\n",
    "To evaluate the performance of each model, Train/Test split (80/20) and Cross-Validation (cv=10) will be used throughout the analysis. The nature of the project requires scoring methods different than accuracy, as mislabelling a benign melanoma is less fatal than mislabelling a malignant. For this reason, the following metrics will be used:\n",
    "- Confusion Matrix, as a visual verification\n",
    "- Recall, putting the enphasis on reducing False Negative\n",
    "\n",
    "Additional metrics, such as AUC, were proposed by the Kaggle organizers. To understand the impact of our decissions, Receiver Operating Characteristic (ROC) curve will be obtained for verification purposes. \n",
    "\n",
    "This notebook will have the following sections:\n",
    "- Data preparation\n",
    "- Model selection, using three approaches: Metadata Only, Images Only, both sources\n",
    "- Data optimisation, adding image augmentation techniques to minimise bias\n",
    "- Model tuning, modifying architecture hyperparameters"
   ]
  },
  {
   "cell_type": "markdown",
   "metadata": {},
   "source": [
    "## Import Packages"
   ]
  },
  {
   "cell_type": "code",
   "execution_count": 61,
   "metadata": {},
   "outputs": [],
   "source": [
    "import pandas as pd\n",
    "import numpy as np\n",
    "import sys\n",
    "import os\n",
    "import matplotlib.pyplot as plt\n",
    "\n",
    "sys.path.append(\"../Melanoma/\")\n",
    "import data_preprocessing\n",
    "import image_preprocessing\n",
    "\n",
    "from sklearn.model_selection import train_test_split\n",
    "from sklearn.preprocessing import MinMaxScaler"
   ]
  },
  {
   "cell_type": "markdown",
   "metadata": {},
   "source": [
    "## Data Preparation\n",
    "\n",
    "In this section, tabular information is loaded and features are extracted for further postprocessing."
   ]
  },
  {
   "cell_type": "code",
   "execution_count": 62,
   "metadata": {},
   "outputs": [
    {
     "data": {
      "text/html": [
       "<div>\n",
       "<style scoped>\n",
       "    .dataframe tbody tr th:only-of-type {\n",
       "        vertical-align: middle;\n",
       "    }\n",
       "\n",
       "    .dataframe tbody tr th {\n",
       "        vertical-align: top;\n",
       "    }\n",
       "\n",
       "    .dataframe thead th {\n",
       "        text-align: right;\n",
       "    }\n",
       "</style>\n",
       "<table border=\"1\" class=\"dataframe\">\n",
       "  <thead>\n",
       "    <tr style=\"text-align: right;\">\n",
       "      <th></th>\n",
       "      <th>patient_id</th>\n",
       "      <th>sex</th>\n",
       "      <th>age_approx</th>\n",
       "      <th>anatom_site_general_challenge</th>\n",
       "      <th>diagnosis</th>\n",
       "      <th>benign_malignant</th>\n",
       "      <th>target</th>\n",
       "      <th>IsMale</th>\n",
       "    </tr>\n",
       "    <tr>\n",
       "      <th>image_name</th>\n",
       "      <th></th>\n",
       "      <th></th>\n",
       "      <th></th>\n",
       "      <th></th>\n",
       "      <th></th>\n",
       "      <th></th>\n",
       "      <th></th>\n",
       "      <th></th>\n",
       "    </tr>\n",
       "  </thead>\n",
       "  <tbody>\n",
       "    <tr>\n",
       "      <th>ISIC_2637011</th>\n",
       "      <td>IP_7279968</td>\n",
       "      <td>male</td>\n",
       "      <td>0.4375</td>\n",
       "      <td>head/neck</td>\n",
       "      <td>unknown</td>\n",
       "      <td>benign</td>\n",
       "      <td>0</td>\n",
       "      <td>1</td>\n",
       "    </tr>\n",
       "    <tr>\n",
       "      <th>ISIC_0015719</th>\n",
       "      <td>IP_3075186</td>\n",
       "      <td>female</td>\n",
       "      <td>0.4375</td>\n",
       "      <td>upper extremity</td>\n",
       "      <td>unknown</td>\n",
       "      <td>benign</td>\n",
       "      <td>0</td>\n",
       "      <td>0</td>\n",
       "    </tr>\n",
       "    <tr>\n",
       "      <th>ISIC_0052212</th>\n",
       "      <td>IP_2842074</td>\n",
       "      <td>female</td>\n",
       "      <td>0.5000</td>\n",
       "      <td>lower extremity</td>\n",
       "      <td>nevus</td>\n",
       "      <td>benign</td>\n",
       "      <td>0</td>\n",
       "      <td>0</td>\n",
       "    </tr>\n",
       "    <tr>\n",
       "      <th>ISIC_0068279</th>\n",
       "      <td>IP_6890425</td>\n",
       "      <td>female</td>\n",
       "      <td>0.4375</td>\n",
       "      <td>head/neck</td>\n",
       "      <td>unknown</td>\n",
       "      <td>benign</td>\n",
       "      <td>0</td>\n",
       "      <td>0</td>\n",
       "    </tr>\n",
       "    <tr>\n",
       "      <th>ISIC_0074268</th>\n",
       "      <td>IP_8723313</td>\n",
       "      <td>female</td>\n",
       "      <td>0.5625</td>\n",
       "      <td>upper extremity</td>\n",
       "      <td>unknown</td>\n",
       "      <td>benign</td>\n",
       "      <td>0</td>\n",
       "      <td>0</td>\n",
       "    </tr>\n",
       "  </tbody>\n",
       "</table>\n",
       "</div>"
      ],
      "text/plain": [
       "              patient_id     sex  age_approx anatom_site_general_challenge  \\\n",
       "image_name                                                                   \n",
       "ISIC_2637011  IP_7279968    male      0.4375                     head/neck   \n",
       "ISIC_0015719  IP_3075186  female      0.4375               upper extremity   \n",
       "ISIC_0052212  IP_2842074  female      0.5000               lower extremity   \n",
       "ISIC_0068279  IP_6890425  female      0.4375                     head/neck   \n",
       "ISIC_0074268  IP_8723313  female      0.5625               upper extremity   \n",
       "\n",
       "             diagnosis benign_malignant  target  IsMale  \n",
       "image_name                                               \n",
       "ISIC_2637011   unknown           benign       0       1  \n",
       "ISIC_0015719   unknown           benign       0       0  \n",
       "ISIC_0052212     nevus           benign       0       0  \n",
       "ISIC_0068279   unknown           benign       0       0  \n",
       "ISIC_0074268   unknown           benign       0       0  "
      ]
     },
     "execution_count": 62,
     "metadata": {},
     "output_type": "execute_result"
    }
   ],
   "source": [
    "# Go to root if required\n",
    "if os.getcwd().split(\"/\")[-1] == \"Explore\":\n",
    "    os.chdir(\"..\")\n",
    "\n",
    "# Define datasets locations\n",
    "input_dcm_train = 'Datasets/dcm/train/'\n",
    "input_dcm_filelist = os.listdir(input_dcm_train)\n",
    "input_metadata_train = 'Datasets/train.csv'\n",
    "\n",
    "# Load metadata datasets and remove NA and duplicates\n",
    "md_train = pd.read_csv(input_metadata_train)                            \\\n",
    "    .pipe(lambda df: df.dropna(subset=[\"age_approx\", \"sex\"], axis=0))   \\\n",
    "    .pipe(data_preprocessing.AgeOutlierAnalysis)                        \\\n",
    "    .pipe(data_preprocessing.RemoveDuplicateRecords)                    \\\n",
    "    .dropna(axis=0)                                                     \\\n",
    "    .set_index(\"image_name\")                                            \\\n",
    "    .astype({\n",
    "        \"age_approx\": 'float',\n",
    "        \"anatom_site_general_challenge\": 'category',\n",
    "        \"diagnosis\": 'category'\n",
    "    })\n",
    "\n",
    "md_train['age_approx'] = MinMaxScaler().fit_transform(md_train['age_approx'].values.reshape(-1,1))\n",
    "md_train['IsMale'] = md_train.sex.apply(lambda x: 1 if x==\"male\" else 0)\n",
    "md_train.head()"
   ]
  },
  {
   "cell_type": "code",
   "execution_count": 63,
   "metadata": {},
   "outputs": [
    {
     "data": {
      "text/html": [
       "<div>\n",
       "<style scoped>\n",
       "    .dataframe tbody tr th:only-of-type {\n",
       "        vertical-align: middle;\n",
       "    }\n",
       "\n",
       "    .dataframe tbody tr th {\n",
       "        vertical-align: top;\n",
       "    }\n",
       "\n",
       "    .dataframe thead th {\n",
       "        text-align: right;\n",
       "    }\n",
       "</style>\n",
       "<table border=\"1\" class=\"dataframe\">\n",
       "  <thead>\n",
       "    <tr style=\"text-align: right;\">\n",
       "      <th></th>\n",
       "      <th>age_approx</th>\n",
       "      <th>IsMale</th>\n",
       "      <th>Location_head/neck</th>\n",
       "      <th>Location_lower extremity</th>\n",
       "      <th>Location_oral/genital</th>\n",
       "      <th>Location_palms/soles</th>\n",
       "      <th>Location_torso</th>\n",
       "      <th>Location_upper extremity</th>\n",
       "    </tr>\n",
       "    <tr>\n",
       "      <th>image_name</th>\n",
       "      <th></th>\n",
       "      <th></th>\n",
       "      <th></th>\n",
       "      <th></th>\n",
       "      <th></th>\n",
       "      <th></th>\n",
       "      <th></th>\n",
       "      <th></th>\n",
       "    </tr>\n",
       "  </thead>\n",
       "  <tbody>\n",
       "    <tr>\n",
       "      <th>ISIC_2637011</th>\n",
       "      <td>0.4375</td>\n",
       "      <td>1.0</td>\n",
       "      <td>1.0</td>\n",
       "      <td>0.0</td>\n",
       "      <td>0.0</td>\n",
       "      <td>0.0</td>\n",
       "      <td>0.0</td>\n",
       "      <td>0.0</td>\n",
       "    </tr>\n",
       "    <tr>\n",
       "      <th>ISIC_0015719</th>\n",
       "      <td>0.4375</td>\n",
       "      <td>0.0</td>\n",
       "      <td>0.0</td>\n",
       "      <td>0.0</td>\n",
       "      <td>0.0</td>\n",
       "      <td>0.0</td>\n",
       "      <td>0.0</td>\n",
       "      <td>1.0</td>\n",
       "    </tr>\n",
       "    <tr>\n",
       "      <th>ISIC_0052212</th>\n",
       "      <td>0.5000</td>\n",
       "      <td>0.0</td>\n",
       "      <td>0.0</td>\n",
       "      <td>1.0</td>\n",
       "      <td>0.0</td>\n",
       "      <td>0.0</td>\n",
       "      <td>0.0</td>\n",
       "      <td>0.0</td>\n",
       "    </tr>\n",
       "    <tr>\n",
       "      <th>ISIC_0068279</th>\n",
       "      <td>0.4375</td>\n",
       "      <td>0.0</td>\n",
       "      <td>1.0</td>\n",
       "      <td>0.0</td>\n",
       "      <td>0.0</td>\n",
       "      <td>0.0</td>\n",
       "      <td>0.0</td>\n",
       "      <td>0.0</td>\n",
       "    </tr>\n",
       "    <tr>\n",
       "      <th>ISIC_0074268</th>\n",
       "      <td>0.5625</td>\n",
       "      <td>0.0</td>\n",
       "      <td>0.0</td>\n",
       "      <td>0.0</td>\n",
       "      <td>0.0</td>\n",
       "      <td>0.0</td>\n",
       "      <td>0.0</td>\n",
       "      <td>1.0</td>\n",
       "    </tr>\n",
       "  </tbody>\n",
       "</table>\n",
       "</div>"
      ],
      "text/plain": [
       "              age_approx  IsMale  Location_head/neck  \\\n",
       "image_name                                             \n",
       "ISIC_2637011      0.4375     1.0                 1.0   \n",
       "ISIC_0015719      0.4375     0.0                 0.0   \n",
       "ISIC_0052212      0.5000     0.0                 0.0   \n",
       "ISIC_0068279      0.4375     0.0                 1.0   \n",
       "ISIC_0074268      0.5625     0.0                 0.0   \n",
       "\n",
       "              Location_lower extremity  Location_oral/genital  \\\n",
       "image_name                                                      \n",
       "ISIC_2637011                       0.0                    0.0   \n",
       "ISIC_0015719                       0.0                    0.0   \n",
       "ISIC_0052212                       1.0                    0.0   \n",
       "ISIC_0068279                       0.0                    0.0   \n",
       "ISIC_0074268                       0.0                    0.0   \n",
       "\n",
       "              Location_palms/soles  Location_torso  Location_upper extremity  \n",
       "image_name                                                                    \n",
       "ISIC_2637011                   0.0             0.0                       0.0  \n",
       "ISIC_0015719                   0.0             0.0                       1.0  \n",
       "ISIC_0052212                   0.0             0.0                       0.0  \n",
       "ISIC_0068279                   0.0             0.0                       0.0  \n",
       "ISIC_0074268                   0.0             0.0                       1.0  "
      ]
     },
     "execution_count": 63,
     "metadata": {},
     "output_type": "execute_result"
    }
   ],
   "source": [
    "# Split dataset between features and labels\n",
    "y = md_train.target\n",
    "X = md_train.drop([\"target\", \"benign_malignant\", \"patient_id\", \"sex\", \"diagnosis\"], axis=1)\n",
    "X = X.rename({'anatom_site_general_challenge': \"Location\"}, axis=1)\n",
    "X = pd.get_dummies(X, columns=[\"Location\"])\n",
    "X = X.astype('float32')\n",
    "X.head()"
   ]
  },
  {
   "cell_type": "code",
   "execution_count": 64,
   "metadata": {},
   "outputs": [],
   "source": [
    "X_train, X_test, y_train, y_test = train_test_split(X, y, test_size=0.2, random_state=14)"
   ]
  },
  {
   "cell_type": "markdown",
   "metadata": {},
   "source": [
    "## Model Training\n",
    "Now, we will train this dataset with various models:\n",
    "- KNN\n",
    "- Random Forest\n",
    "- XGBoost\n",
    "\n",
    "The model performance will be measured through Cross-validation using Recall and AUC and plotting both Confussion Matrix."
   ]
  },
  {
   "cell_type": "code",
   "execution_count": 65,
   "metadata": {},
   "outputs": [],
   "source": [
    "from sklearn.model_selection import StratifiedKFold, cross_validate\n",
    "from sklearn.ensemble import RandomForestClassifier\n",
    "from sklearn.metrics import recall_score, roc_auc_score, confusion_matrix, ConfusionMatrixDisplay\n",
    "from sklearn.dummy import DummyClassifier\n",
    "from sklearn.neighbors import KNeighborsClassifier\n",
    "from xgboost import XGBClassifier"
   ]
  },
  {
   "cell_type": "code",
   "execution_count": 66,
   "metadata": {},
   "outputs": [],
   "source": [
    "DM_model = DummyClassifier(strategy='most_frequent')\n",
    "KNN_model = KNeighborsClassifier(n_neighbors=5)\n",
    "RF_model = RandomForestClassifier(n_estimators=1000, max_depth=10, random_state=14)\n",
    "XGB_model = XGBClassifier(n_estimators=1000, max_depth=10, random_state=14, use_label_encoder=False)"
   ]
  },
  {
   "cell_type": "markdown",
   "metadata": {},
   "source": [
    "Establish the null score by using the dummy classifier"
   ]
  },
  {
   "cell_type": "code",
   "execution_count": 67,
   "metadata": {},
   "outputs": [],
   "source": [
    "Null_model = cross_validate(DM_model, X_train, y_train, cv=5, scoring=[\"roc_auc\",\"recall\"])\n",
    "Null_recall = sum(Null_model['test_recall'])/len(Null_model['test_recall'])\n",
    "Null_AUC = sum(Null_model['test_roc_auc'])/len(Null_model['test_roc_auc'])"
   ]
  },
  {
   "cell_type": "markdown",
   "metadata": {},
   "source": [
    "### Standard configuration"
   ]
  },
  {
   "cell_type": "code",
   "execution_count": 68,
   "metadata": {},
   "outputs": [
    {
     "name": "stdout",
     "output_type": "stream",
     "text": [
      "[18:05:02] WARNING: /opt/concourse/worker/volumes/live/7a2b9f41-3287-451b-6691-43e9a6c0910f/volume/xgboost-split_1619728204606/work/src/learner.cc:1061: Starting in XGBoost 1.3.0, the default evaluation metric used with the objective 'binary:logistic' was changed from 'error' to 'logloss'. Explicitly set eval_metric if you'd like to restore the old behavior.\n",
      "[18:05:15] WARNING: /opt/concourse/worker/volumes/live/7a2b9f41-3287-451b-6691-43e9a6c0910f/volume/xgboost-split_1619728204606/work/src/learner.cc:1061: Starting in XGBoost 1.3.0, the default evaluation metric used with the objective 'binary:logistic' was changed from 'error' to 'logloss'. Explicitly set eval_metric if you'd like to restore the old behavior.\n",
      "[18:05:28] WARNING: /opt/concourse/worker/volumes/live/7a2b9f41-3287-451b-6691-43e9a6c0910f/volume/xgboost-split_1619728204606/work/src/learner.cc:1061: Starting in XGBoost 1.3.0, the default evaluation metric used with the objective 'binary:logistic' was changed from 'error' to 'logloss'. Explicitly set eval_metric if you'd like to restore the old behavior.\n",
      "[18:05:41] WARNING: /opt/concourse/worker/volumes/live/7a2b9f41-3287-451b-6691-43e9a6c0910f/volume/xgboost-split_1619728204606/work/src/learner.cc:1061: Starting in XGBoost 1.3.0, the default evaluation metric used with the objective 'binary:logistic' was changed from 'error' to 'logloss'. Explicitly set eval_metric if you'd like to restore the old behavior.\n",
      "[18:05:55] WARNING: /opt/concourse/worker/volumes/live/7a2b9f41-3287-451b-6691-43e9a6c0910f/volume/xgboost-split_1619728204606/work/src/learner.cc:1061: Starting in XGBoost 1.3.0, the default evaluation metric used with the objective 'binary:logistic' was changed from 'error' to 'logloss'. Explicitly set eval_metric if you'd like to restore the old behavior.\n"
     ]
    }
   ],
   "source": [
    "# Cross-Validation\n",
    "cv = StratifiedKFold(n_splits=5)\n",
    "\n",
    "# KNN Variables\n",
    "knn_conf_matrix = np.zeros((2,2))\n",
    "knn_recall = []\n",
    "knn_auc = []\n",
    "\n",
    "# Random Forest Variables\n",
    "rf_conf_matrix = np.zeros((2,2))\n",
    "rf_recall = []\n",
    "rf_auc = []\n",
    "\n",
    "# XGBoost Variables\n",
    "xg_conf_matrix = np.zeros((2,2))\n",
    "xg_recall = []\n",
    "xg_auc = []\n",
    "\n",
    "for idx_train, idx_test in cv.split(X_train, y_train):\n",
    "    # Obtain the split\n",
    "    X, y = X_train.values[idx_train], y_train.values[idx_train]\n",
    "\n",
    "    # Train both models \n",
    "    KNN_model.fit(X, y)\n",
    "    RF_model.fit(X, y)\n",
    "    XGB_model.fit(X, y)\n",
    "\n",
    "    # Obtain prediction dataset\n",
    "    X, y = X_train.values[idx_test], y_train.values[idx_test]\n",
    "\n",
    "    # Predict both models\n",
    "    KNN_pred = KNN_model.predict(X)\n",
    "    RF_pred = RF_model.predict(X)\n",
    "    XGB_pred = XGB_model.predict(X)\n",
    "\n",
    "    # Store Confusion Matrix + Recall Score + AUC\n",
    "    knn_conf_matrix += confusion_matrix(y, KNN_pred)\n",
    "    rf_conf_matrix += confusion_matrix(y, RF_pred)\n",
    "    xg_conf_matrix += confusion_matrix(y, XGB_pred)\n",
    "    knn_recall.append(recall_score(y, KNN_pred))\n",
    "    rf_recall.append(recall_score(y, RF_pred))\n",
    "    xg_recall.append(recall_score(y, XGB_pred))\n",
    "    knn_auc.append(roc_auc_score(y, KNN_pred))\n",
    "    rf_auc.append(roc_auc_score(y, RF_pred))\n",
    "    xg_auc.append(roc_auc_score(y, XGB_pred))"
   ]
  },
  {
   "cell_type": "code",
   "execution_count": 69,
   "metadata": {},
   "outputs": [
    {
     "data": {
      "image/png": "[encoded data removed]",
      "text/plain": [
       "<Figure size 432x288 with 2 Axes>"
      ]
     },
     "metadata": {
      "needs_background": "light"
     },
     "output_type": "display_data"
    },
    {
     "data": {
      "image/png": "[encoded data removed]",
      "text/plain": [
       "<Figure size 432x288 with 2 Axes>"
      ]
     },
     "metadata": {
      "needs_background": "light"
     },
     "output_type": "display_data"
    },
    {
     "data": {
      "image/png": "[encoded data removed]",
      "text/plain": [
       "<Figure size 432x288 with 2 Axes>"
      ]
     },
     "metadata": {
      "needs_background": "light"
     },
     "output_type": "display_data"
    },
    {
     "name": "stdout",
     "output_type": "stream",
     "text": [
      "--------------\n",
      "Recall Results\n",
      "--------------\n",
      "Null Hypothesis -> 0.0\n",
      "KNN           -> 0.0\n",
      "Random Forest -> 0.0\n",
      "XGBoost       -> 0.0\n",
      "--------------\n",
      "\n",
      "--------------\n",
      "AUC Results\n",
      "--------------\n",
      "Null Hypothesis -> 0.5\n",
      "KNN           -> 0.4999802097763705\n",
      "Random Forest -> 0.49990104104724287\n",
      "XGBoost       -> 0.49988124690630853\n",
      "--------------\n"
     ]
    }
   ],
   "source": [
    "# Analyse the results\n",
    "# Recall\n",
    "knn_recall_av = sum(knn_recall)/len(knn_recall)\n",
    "rf_recall_av = sum(rf_recall)/len(rf_recall)\n",
    "xg_recall_av = sum(xg_recall)/len(xg_recall)\n",
    "# AUC \n",
    "knn_auc_av = sum(knn_auc)/len(knn_auc)\n",
    "rf_auc_av = sum(rf_auc)/len(rf_auc)\n",
    "xg_auc_av = sum(xg_auc)/len(xg_auc)\n",
    "\n",
    "# Display results\n",
    "# Confusion Matrix\n",
    "disp = ConfusionMatrixDisplay(knn_conf_matrix)\n",
    "disp.plot()\n",
    "plt.title(\"K Nearest Neighbours Confusion Matrix\")\n",
    "plt.show()\n",
    "\n",
    "disp = ConfusionMatrixDisplay(rf_conf_matrix)\n",
    "disp.plot()\n",
    "plt.title(\"Random Forest Confusion Matrix\")\n",
    "plt.show()\n",
    "\n",
    "disp = ConfusionMatrixDisplay(xg_conf_matrix)\n",
    "disp.plot()\n",
    "plt.title(\"XGBoost Confusion Matrix\")\n",
    "plt.show()\n",
    "\n",
    "print(\"--------------\")\n",
    "print(\"Recall Results\")\n",
    "print(\"--------------\")\n",
    "print(\"Null Hypothesis -> \" + str(Null_recall))\n",
    "print(\"KNN           -> \" + str(knn_recall_av))\n",
    "print(\"Random Forest -> \" + str(rf_recall_av))\n",
    "print(\"XGBoost       -> \" + str(xg_recall_av))\n",
    "print(\"--------------\")\n",
    "print(\"\")\n",
    "print(\"--------------\")\n",
    "print(\"AUC Results\")\n",
    "print(\"--------------\")\n",
    "print(\"Null Hypothesis -> \" + str(Null_AUC))\n",
    "print(\"KNN           -> \" + str(knn_auc_av))\n",
    "print(\"Random Forest -> \" + str(rf_auc_av))\n",
    "print(\"XGBoost       -> \" + str(xg_auc_av))\n",
    "print(\"--------------\")\n"
   ]
  },
  {
   "cell_type": "markdown",
   "metadata": {},
   "source": [
    "It is clear that these models are highly influenced by the bias in the dataset.\n",
    "Two alternative approaches will be explored:\n",
    "- Tune XGBoost hyperparameters\n",
    "- Try a simple NN"
   ]
  },
  {
   "cell_type": "markdown",
   "metadata": {},
   "source": [
    "### Tune hyperparameters\n",
    "\n",
    "Use different combination of hyperparameters to find best model performance"
   ]
  },
  {
   "cell_type": "code",
   "execution_count": 71,
   "metadata": {},
   "outputs": [
    {
     "name": "stdout",
     "output_type": "stream",
     "text": [
      "Fitting 5 folds for each of 48 candidates, totalling 240 fits\n"
     ]
    },
    {
     "data": {
      "text/plain": [
       "GridSearchCV(estimator=XGBClassifier(base_score=None, booster=None,\n",
       "                                     colsample_bylevel=None,\n",
       "                                     colsample_bynode=None,\n",
       "                                     colsample_bytree=None, gamma=None,\n",
       "                                     gpu_id=None, importance_type='gain',\n",
       "                                     interaction_constraints=None,\n",
       "                                     learning_rate=None, max_delta_step=None,\n",
       "                                     max_depth=None, min_child_weight=None,\n",
       "                                     missing=nan, monotone_constraints=None,\n",
       "                                     n_estimators=100, n_jobs=None,\n",
       "                                     num_parallel_tree=None, random_state=14,\n",
       "                                     reg_alpha=None, reg_lambda=None,\n",
       "                                     scale_pos_weight=None, subsample=None,\n",
       "                                     tree_method=None, use_label_encoder=False,\n",
       "                                     validate_parameters=None, verbosity=0),\n",
       "             n_jobs=-1,\n",
       "             param_grid={'learning_rate': [0.01, 0.1, 0.3, 0.5],\n",
       "                         'max_depth': [5, 10, 20, 50],\n",
       "                         'n_estimators': [10, 100, 1000]},\n",
       "             scoring='recall', verbose=1)"
      ]
     },
     "execution_count": 71,
     "metadata": {},
     "output_type": "execute_result"
    }
   ],
   "source": [
    "from sklearn.model_selection import GridSearchCV, RandomizedSearchCV\n",
    "\n",
    "XGB_model = XGBClassifier(random_state=14, verbosity=0, use_label_encoder=False)\n",
    "params = {\n",
    "    \"n_estimators\": [10, 100, 1000],\n",
    "    \"learning_rate\": [0.01, 0.1, 0.3, 0.5],\n",
    "    \"max_depth\": [5, 10, 20, 50]\n",
    "}\n",
    "Grid_CV = GridSearchCV(XGB_model, param_grid=params, scoring='recall', n_jobs=-1, verbose=1)\n",
    "Grid_CV.fit(X_train, y_train)\n"
   ]
  },
  {
   "cell_type": "code",
   "execution_count": 78,
   "metadata": {},
   "outputs": [
    {
     "data": {
      "image/png": "[encoded data removed]",
      "text/plain": [
       "<Figure size 432x288 with 2 Axes>"
      ]
     },
     "metadata": {
      "needs_background": "light"
     },
     "output_type": "display_data"
    },
    {
     "name": "stdout",
     "output_type": "stream",
     "text": [
      "The best parameters found are -> {'learning_rate': 0.01, 'max_depth': 10, 'n_estimators': 1000}\n",
      "The best recall achieved are -> 0.0022727272727272726\n"
     ]
    }
   ],
   "source": [
    "y_pred = Grid_CV.predict(X_train)\n",
    "cm = confusion_matrix(y_train, y_pred)\n",
    "disp = ConfusionMatrixDisplay(cm)\n",
    "disp.plot()\n",
    "plt.title(\"Optimal XGBoost Confusion Matrix\")\n",
    "plt.show()\n",
    "\n",
    "\n",
    "print(\"The best parameters found are -> \" + str(Grid_CV.best_params_))\n",
    "print(\"The best recall achieved are -> \" + str(Grid_CV.best_score_))\n"
   ]
  },
  {
   "cell_type": "markdown",
   "metadata": {},
   "source": [
    "The improvement obtained is marginal, obtaining two classification over the training dataset.\n",
    "It is clear this is not the way forwards."
   ]
  },
  {
   "cell_type": "markdown",
   "metadata": {},
   "source": [
    "### Create simple Neural Network\n",
    "\n",
    "Create simple 1-hidden stage Neural Network, using two hidden layers with 16 neurons each"
   ]
  },
  {
   "cell_type": "code",
   "execution_count": 80,
   "metadata": {},
   "outputs": [
    {
     "name": "stdout",
     "output_type": "stream",
     "text": [
      "Tensorflow version 2.6.0\n"
     ]
    }
   ],
   "source": [
    "import tensorflow as tf\n",
    "from tensorflow import keras\n",
    "from keras.models import Sequential\n",
    "from keras.layers import Dense\n",
    "from keras.callbacks import EarlyStopping\n",
    "\n",
    "print(\"Tensorflow version \" + str(tf.__version__))"
   ]
  },
  {
   "cell_type": "code",
   "execution_count": 81,
   "metadata": {},
   "outputs": [
    {
     "name": "stdout",
     "output_type": "stream",
     "text": [
      "Model: \"sequential_10\"\n",
      "_________________________________________________________________\n",
      "Layer (type)                 Output Shape              Param #   \n",
      "=================================================================\n",
      "dense_27 (Dense)             (None, 16)                144       \n",
      "_________________________________________________________________\n",
      "dense_28 (Dense)             (None, 16)                272       \n",
      "_________________________________________________________________\n",
      "dense_29 (Dense)             (None, 1)                 17        \n",
      "=================================================================\n",
      "Total params: 433\n",
      "Trainable params: 433\n",
      "Non-trainable params: 0\n",
      "_________________________________________________________________\n"
     ]
    }
   ],
   "source": [
    "SimpleNN = Sequential()\n",
    "SimpleNN.add(Dense(16, activation='relu', input_shape=[len(X_train.columns)]))\n",
    "SimpleNN.add(Dense(16, activation='relu'))\n",
    "SimpleNN.add(Dense(1, activation='sigmoid'))\n",
    "SimpleNN.summary()"
   ]
  },
  {
   "cell_type": "code",
   "execution_count": 82,
   "metadata": {},
   "outputs": [
    {
     "name": "stdout",
     "output_type": "stream",
     "text": [
      "Epoch 1/100\n",
      "804/804 [==============================] - 1s 611us/step - loss: 0.1700 - auc: 0.4935\n",
      "Epoch 2/100\n",
      "804/804 [==============================] - 1s 623us/step - loss: 0.0888 - auc: 0.4979\n",
      "Epoch 3/100\n",
      "804/804 [==============================] - 0s 609us/step - loss: 0.0878 - auc: 0.5072\n",
      "Epoch 4/100\n",
      "804/804 [==============================] - 1s 756us/step - loss: 0.0871 - auc: 0.5076\n",
      "Epoch 5/100\n",
      "804/804 [==============================] - 1s 750us/step - loss: 0.0866 - auc: 0.5357\n",
      "Epoch 6/100\n",
      "804/804 [==============================] - 1s 723us/step - loss: 0.0862 - auc: 0.5515\n"
     ]
    },
    {
     "data": {
      "text/plain": [
       "<keras.callbacks.History at 0x7f9308f5b9a0>"
      ]
     },
     "execution_count": 82,
     "metadata": {},
     "output_type": "execute_result"
    }
   ],
   "source": [
    "SimpleNN.compile(optimizer='sgd', loss='binary_crossentropy', metrics=['AUC'])\n",
    "SimpleNN.fit(X_train, y_train, epochs=100, callbacks=EarlyStopping(monitor='auc', patience=5))"
   ]
  },
  {
   "cell_type": "code",
   "execution_count": 83,
   "metadata": {},
   "outputs": [
    {
     "data": {
      "text/plain": [
       "<sklearn.metrics._plot.confusion_matrix.ConfusionMatrixDisplay at 0x7f9308f5b3a0>"
      ]
     },
     "execution_count": 83,
     "metadata": {},
     "output_type": "execute_result"
    },
    {
     "data": {
      "image/png": "[encoded data removed]",
      "text/plain": [
       "<Figure size 432x288 with 2 Axes>"
      ]
     },
     "metadata": {
      "needs_background": "light"
     },
     "output_type": "display_data"
    }
   ],
   "source": [
    "y_pred = SimpleNN.predict(X_train)\n",
    "cm = tf.math.confusion_matrix(y_train, y_pred).numpy()\n",
    "disp = ConfusionMatrixDisplay(cm)\n",
    "disp.plot()"
   ]
  },
  {
   "cell_type": "markdown",
   "metadata": {},
   "source": [
    "The bias on this model towards the minority class is even higher. I will move now towards the use of medical images."
   ]
  },
  {
   "cell_type": "markdown",
   "metadata": {},
   "source": []
  }
 ],
 "metadata": {
  "interpreter": {
   "hash": "bc2652c72c8a3189c702e21af9b9a1c28be37f4a66e8668e8311c7aa4e32b050"
  },
  "kernelspec": {
   "display_name": "Python 3.8.12 64-bit ('Melanoma': conda)",
   "name": "python3"
  },
  "language_info": {
   "codemirror_mode": {
    "name": "ipython",
    "version": 3
   },
   "file_extension": ".py",
   "mimetype": "text/x-python",
   "name": "python",
   "nbconvert_exporter": "python",
   "pygments_lexer": "ipython3",
   "version": "3.8.12"
  },
  "orig_nbformat": 4
 },
 "nbformat": 4,
 "nbformat_minor": 2
}
